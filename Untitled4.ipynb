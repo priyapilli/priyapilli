{
  "nbformat": 4,
  "nbformat_minor": 0,
  "metadata": {
    "colab": {
      "provenance": [],
      "collapsed_sections": [],
      "authorship_tag": "ABX9TyOPRYLMw+8I374DxkmYNsrM",
      "include_colab_link": true
    },
    "kernelspec": {
      "name": "python3",
      "display_name": "Python 3"
    },
    "language_info": {
      "name": "python"
    }
  },
  "cells": [
    {
      "cell_type": "markdown",
      "metadata": {
        "id": "view-in-github",
        "colab_type": "text"
      },
      "source": [
        "<a href=\"https://colab.research.google.com/github/priyapilli/priyapilli/blob/main/Untitled4.ipynb\" target=\"_parent\"><img src=\"https://colab.research.google.com/assets/colab-badge.svg\" alt=\"Open In Colab\"/></a>"
      ]
    },
    {
      "cell_type": "code",
      "execution_count": 45,
      "metadata": {
        "colab": {
          "base_uri": "https://localhost:8080/"
        },
        "id": "_V3rLT-DWZWK",
        "outputId": "1dee8c05-ac13-40cd-9a5f-5ac32ad9578c"
      },
      "outputs": [
        {
          "output_type": "stream",
          "name": "stdout",
          "text": [
            "Dictionary in ascending order by value :  [('a', 1), ('b', 2), ('c', 3), ('d', 4)]\n",
            "Dictionary in descending order by value :  {'d': 4, 'c': 3, 'b': 2, 'a': 1}\n"
          ]
        }
      ],
      "source": [
        "import operator\n",
        "d= {'c': 3,'a': 1,'d': 4,'b':2}\n",
        "sorted_d = sorted(d.items(), key=operator.itemgetter(1))\n",
        "print('Dictionary in ascending order by value : ',sorted_d)\n",
        "sorted_d = dict( sorted(d.items(), key=operator.itemgetter(1),reverse=True))\n",
        "print('Dictionary in descending order by value : ',sorted_d)"
      ]
    },
    {
      "cell_type": "code",
      "source": [
        "d={0:10,1:20,2:30,3:40}\n",
        "d[\"4\"]=[\"50\"]\n",
        "print(\"updated dict:\",d)"
      ],
      "metadata": {
        "colab": {
          "base_uri": "https://localhost:8080/"
        },
        "id": "62Ph6BfzG1Hs",
        "outputId": "36cb45bd-1003-4d58-fe5a-7a8221e6f071"
      },
      "execution_count": 38,
      "outputs": [
        {
          "output_type": "stream",
          "name": "stdout",
          "text": [
            "updated dict: {0: 10, 1: 20, 2: 30, 3: 40, '4': ['50']}\n"
          ]
        }
      ]
    },
    {
      "cell_type": "code",
      "source": [
        "dic1={1:10, 2:20}\n",
        "dic2={3:30, 4:40}\n",
        "dic3={5:50,6:60}\n",
        "dic4={**dic1,**dic2,**dic3}\n",
        "print(\"new dictionary\",dic4)"
      ],
      "metadata": {
        "colab": {
          "base_uri": "https://localhost:8080/"
        },
        "id": "6qdmPj0DN4Gj",
        "outputId": "3dd0cc35-7909-4e2c-a2c4-85e66ebe8cee"
      },
      "execution_count": 44,
      "outputs": [
        {
          "output_type": "stream",
          "name": "stdout",
          "text": [
            "new dictionary {1: 10, 2: 20, 3: 30, 4: 40, 5: 50, 6: 60}\n"
          ]
        }
      ]
    },
    {
      "cell_type": "code",
      "source": [
        "def checkKey(d, key):\n",
        "    if key in d.keys():\n",
        "        print(\"Present, \", end =\" \")\n",
        "        print(\"value =\", d[key])\n",
        "    else:\n",
        "        print(\"Not present\")\n",
        "d= {'c': 3,'a': 1,'d': 4,'b':2}\n",
        "key='e'\n",
        "checkKey(d, key)\n"
      ],
      "metadata": {
        "colab": {
          "base_uri": "https://localhost:8080/"
        },
        "id": "2o7qFs7iMh2W",
        "outputId": "f9cef154-998b-4d6a-a2a5-cc135927ca47"
      },
      "execution_count": 47,
      "outputs": [
        {
          "output_type": "stream",
          "name": "stdout",
          "text": [
            "Not present\n"
          ]
        }
      ]
    },
    {
      "cell_type": "code",
      "source": [
        "d= {'c': 3,'a': 1,'d': 4,'b':2}\n",
        "print('Dictionary Key-Value pairs are:')\n",
        "for i in d.items():\n",
        "    print(i)\n"
      ],
      "metadata": {
        "colab": {
          "base_uri": "https://localhost:8080/"
        },
        "id": "R3S_APlFc6UN",
        "outputId": "3f424453-1f94-4d83-ff91-6fd6a3801c49"
      },
      "execution_count": 50,
      "outputs": [
        {
          "output_type": "stream",
          "name": "stdout",
          "text": [
            "Dictionary Key-Value pairs are:\n",
            "('c', 3)\n",
            "('a', 1)\n",
            "('d', 4)\n",
            "('b', 2)\n"
          ]
        }
      ]
    },
    {
      "cell_type": "code",
      "source": [
        "n=int(input(\"Input a number \"))\n",
        "d = dict()\n",
        "\n",
        "for x in range(1,n+1):\n",
        "    d[x]=x*x\n",
        "\n",
        "print(d) "
      ],
      "metadata": {
        "colab": {
          "base_uri": "https://localhost:8080/"
        },
        "id": "3q13F3fVfneJ",
        "outputId": "db1051fb-fa47-465c-c467-f46803651e18"
      },
      "execution_count": 49,
      "outputs": [
        {
          "output_type": "stream",
          "name": "stdout",
          "text": [
            "Input a number 5\n",
            "{1: 1, 2: 4, 3: 9, 4: 16, 5: 25}\n"
          ]
        }
      ]
    },
    {
      "cell_type": "code",
      "source": [
        "n=int(input(\"Input a number \"))\n",
        "d = dict()\n",
        "\n",
        "for x in range(1,n+1):\n",
        "    d[x]=x*x\n",
        "\n",
        "print(d) "
      ],
      "metadata": {
        "colab": {
          "base_uri": "https://localhost:8080/"
        },
        "id": "by1ftmBAisH9",
        "outputId": "f631a8a5-222c-4f58-9814-af4025d62c3d"
      },
      "execution_count": 51,
      "outputs": [
        {
          "output_type": "stream",
          "name": "stdout",
          "text": [
            "Input a number 15\n",
            "{1: 1, 2: 4, 3: 9, 4: 16, 5: 25, 6: 36, 7: 49, 8: 64, 9: 81, 10: 100, 11: 121, 12: 144, 13: 169, 14: 196, 15: 225}\n"
          ]
        }
      ]
    },
    {
      "cell_type": "code",
      "source": [
        "dic1={1:10, 2:20}\n",
        "dic2={3:30, 4:40}\n",
        "print({**dic1,**dic2})"
      ],
      "metadata": {
        "colab": {
          "base_uri": "https://localhost:8080/"
        },
        "id": "65yWxmTLi--M",
        "outputId": "26dd8cc8-3db9-486a-e8be-50c187e5ba11"
      },
      "execution_count": 55,
      "outputs": [
        {
          "output_type": "stream",
          "name": "stdout",
          "text": [
            "{1: 10, 2: 20, 3: 30, 4: 40}\n"
          ]
        }
      ]
    },
    {
      "cell_type": "code",
      "source": [
        "def returnSum(myDict):\n",
        " \n",
        "    list = []\n",
        "    for i in myDict:\n",
        "        list.append(myDict[i])\n",
        "    final = sum(list)\n",
        " \n",
        "    return final\n",
        "dict= {'c': 3,'a': 1,'d': 4,'b':2}\n",
        "print(\"Sum :\", returnSum(dict))\n"
      ],
      "metadata": {
        "colab": {
          "base_uri": "https://localhost:8080/"
        },
        "id": "-zwqwhS5kGnw",
        "outputId": "5c045963-d517-452d-e13d-69bb6c1f348f"
      },
      "execution_count": 60,
      "outputs": [
        {
          "output_type": "stream",
          "name": "stdout",
          "text": [
            "Sum : 10\n"
          ]
        }
      ]
    },
    {
      "cell_type": "code",
      "source": [
        "dict= {'c': 3,'a': 1,'d': 4,'b':2}\n",
        "answer=1\n",
        "for i in dict:\n",
        "  answer=answer*dict[i]\n",
        "print(answer)\n"
      ],
      "metadata": {
        "colab": {
          "base_uri": "https://localhost:8080/"
        },
        "id": "2Vi7mmsDmn7l",
        "outputId": "fe871064-d0b7-4b52-ab85-9f6b9714c43a"
      },
      "execution_count": 61,
      "outputs": [
        {
          "output_type": "stream",
          "name": "stdout",
          "text": [
            "24\n"
          ]
        }
      ]
    },
    {
      "cell_type": "code",
      "source": [
        "dict= {'c': 3,'a': 1,'d': 4,'b':2}\n"
      ],
      "metadata": {
        "id": "HaORPe-ZnTi6"
      },
      "execution_count": null,
      "outputs": []
    }
  ]
}