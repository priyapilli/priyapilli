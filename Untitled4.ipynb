{
  "nbformat": 4,
  "nbformat_minor": 0,
  "metadata": {
    "colab": {
      "provenance": [],
      "collapsed_sections": [],
      "authorship_tag": "ABX9TyMlc8MEXeobO+2a9jLa0xxn",
      "include_colab_link": true
    },
    "kernelspec": {
      "name": "python3",
      "display_name": "Python 3"
    },
    "language_info": {
      "name": "python"
    }
  },
  "cells": [
    {
      "cell_type": "markdown",
      "metadata": {
        "id": "view-in-github",
        "colab_type": "text"
      },
      "source": [
        "<a href=\"https://colab.research.google.com/github/priyapilli/priyapilli/blob/main/Untitled4.ipynb\" target=\"_parent\"><img src=\"https://colab.research.google.com/assets/colab-badge.svg\" alt=\"Open In Colab\"/></a>"
      ]
    },
    {
      "cell_type": "code",
      "execution_count": null,
      "metadata": {
        "colab": {
          "base_uri": "https://localhost:8080/"
        },
        "id": "_V3rLT-DWZWK",
        "outputId": "1dee8c05-ac13-40cd-9a5f-5ac32ad9578c"
      },
      "outputs": [
        {
          "output_type": "stream",
          "name": "stdout",
          "text": [
            "Dictionary in ascending order by value :  [('a', 1), ('b', 2), ('c', 3), ('d', 4)]\n",
            "Dictionary in descending order by value :  {'d': 4, 'c': 3, 'b': 2, 'a': 1}\n"
          ]
        }
      ],
      "source": [
        "import operator\n",
        "d= {'c': 3,'a': 1,'d': 4,'b':2}\n",
        "sorted_d = sorted(d.items(), key=operator.itemgetter(1))\n",
        "print('Dictionary in ascending order by value : ',sorted_d)\n",
        "sorted_d = dict( sorted(d.items(), key=operator.itemgetter(1),reverse=True))\n",
        "print('Dictionary in descending order by value : ',sorted_d)"
      ]
    },
    {
      "cell_type": "code",
      "source": [
        "d={0:10,1:20,2:30,3:40}\n",
        "d[\"4\"]=[\"50\"]\n",
        "print(\"updated dict:\",d)"
      ],
      "metadata": {
        "colab": {
          "base_uri": "https://localhost:8080/"
        },
        "id": "62Ph6BfzG1Hs",
        "outputId": "36cb45bd-1003-4d58-fe5a-7a8221e6f071"
      },
      "execution_count": null,
      "outputs": [
        {
          "output_type": "stream",
          "name": "stdout",
          "text": [
            "updated dict: {0: 10, 1: 20, 2: 30, 3: 40, '4': ['50']}\n"
          ]
        }
      ]
    },
    {
      "cell_type": "code",
      "source": [
        "dic1={1:10, 2:20}\n",
        "dic2={3:30, 4:40}\n",
        "dic3={5:50,6:60}\n",
        "dic4={**dic1,**dic2,**dic3}\n",
        "print(\"new dictionary\",dic4)"
      ],
      "metadata": {
        "colab": {
          "base_uri": "https://localhost:8080/"
        },
        "id": "6qdmPj0DN4Gj",
        "outputId": "3dd0cc35-7909-4e2c-a2c4-85e66ebe8cee"
      },
      "execution_count": null,
      "outputs": [
        {
          "output_type": "stream",
          "name": "stdout",
          "text": [
            "new dictionary {1: 10, 2: 20, 3: 30, 4: 40, 5: 50, 6: 60}\n"
          ]
        }
      ]
    },
    {
      "cell_type": "code",
      "source": [
        "def checkKey(d, key):\n",
        "    if key in d.keys():\n",
        "        print(\"Present, \", end =\" \")\n",
        "        print(\"value =\", d[key])\n",
        "    else:\n",
        "        print(\"Not present\")\n",
        "d= {'c': 3,'a': 1,'d': 4,'b':2}\n",
        "key='e'\n",
        "checkKey(d, key)\n"
      ],
      "metadata": {
        "colab": {
          "base_uri": "https://localhost:8080/"
        },
        "id": "2o7qFs7iMh2W",
        "outputId": "f9cef154-998b-4d6a-a2a5-cc135927ca47"
      },
      "execution_count": null,
      "outputs": [
        {
          "output_type": "stream",
          "name": "stdout",
          "text": [
            "Not present\n"
          ]
        }
      ]
    },
    {
      "cell_type": "code",
      "source": [
        "d= {'c': 3,'a': 1,'d': 4,'b':2}\n",
        "print('Dictionary Key-Value pairs are:')\n",
        "for i in d.items():\n",
        "    print(i)\n"
      ],
      "metadata": {
        "colab": {
          "base_uri": "https://localhost:8080/"
        },
        "id": "R3S_APlFc6UN",
        "outputId": "3f424453-1f94-4d83-ff91-6fd6a3801c49"
      },
      "execution_count": null,
      "outputs": [
        {
          "output_type": "stream",
          "name": "stdout",
          "text": [
            "Dictionary Key-Value pairs are:\n",
            "('c', 3)\n",
            "('a', 1)\n",
            "('d', 4)\n",
            "('b', 2)\n"
          ]
        }
      ]
    },
    {
      "cell_type": "code",
      "source": [
        "n=int(input(\"Input a number \"))\n",
        "d = dict()\n",
        "\n",
        "for x in range(1,n+1):\n",
        "    d[x]=x*x\n",
        "\n",
        "print(d) "
      ],
      "metadata": {
        "colab": {
          "base_uri": "https://localhost:8080/"
        },
        "id": "3q13F3fVfneJ",
        "outputId": "db1051fb-fa47-465c-c467-f46803651e18"
      },
      "execution_count": null,
      "outputs": [
        {
          "output_type": "stream",
          "name": "stdout",
          "text": [
            "Input a number 5\n",
            "{1: 1, 2: 4, 3: 9, 4: 16, 5: 25}\n"
          ]
        }
      ]
    },
    {
      "cell_type": "code",
      "source": [
        "n=int(input(\"Input a number \"))\n",
        "d = dict()\n",
        "\n",
        "for x in range(1,n+1):\n",
        "    d[x]=x*x\n",
        "\n",
        "print(d) "
      ],
      "metadata": {
        "colab": {
          "base_uri": "https://localhost:8080/"
        },
        "id": "by1ftmBAisH9",
        "outputId": "f631a8a5-222c-4f58-9814-af4025d62c3d"
      },
      "execution_count": null,
      "outputs": [
        {
          "output_type": "stream",
          "name": "stdout",
          "text": [
            "Input a number 15\n",
            "{1: 1, 2: 4, 3: 9, 4: 16, 5: 25, 6: 36, 7: 49, 8: 64, 9: 81, 10: 100, 11: 121, 12: 144, 13: 169, 14: 196, 15: 225}\n"
          ]
        }
      ]
    },
    {
      "cell_type": "code",
      "source": [
        "dic1={1:10, 2:20}\n",
        "dic2={3:30, 4:40}\n",
        "print({**dic1,**dic2})"
      ],
      "metadata": {
        "colab": {
          "base_uri": "https://localhost:8080/"
        },
        "id": "65yWxmTLi--M",
        "outputId": "26dd8cc8-3db9-486a-e8be-50c187e5ba11"
      },
      "execution_count": null,
      "outputs": [
        {
          "output_type": "stream",
          "name": "stdout",
          "text": [
            "{1: 10, 2: 20, 3: 30, 4: 40}\n"
          ]
        }
      ]
    },
    {
      "cell_type": "code",
      "source": [
        "def returnSum(myDict):\n",
        " \n",
        "    list = []\n",
        "    for i in myDict:\n",
        "        list.append(myDict[i])\n",
        "    final = sum(list)\n",
        " \n",
        "    return final\n",
        "dict= {'c': 3,'a': 1,'d': 4,'b':2}\n",
        "print(\"Sum :\", returnSum(dict))\n"
      ],
      "metadata": {
        "colab": {
          "base_uri": "https://localhost:8080/"
        },
        "id": "-zwqwhS5kGnw",
        "outputId": "5c045963-d517-452d-e13d-69bb6c1f348f"
      },
      "execution_count": null,
      "outputs": [
        {
          "output_type": "stream",
          "name": "stdout",
          "text": [
            "Sum : 10\n"
          ]
        }
      ]
    },
    {
      "cell_type": "code",
      "source": [
        "dict= {'c': 3,'a': 1,'d': 4,'b':2}\n",
        "answer=1\n",
        "for i in dict:\n",
        "  answer=answer*dict[i]\n",
        "print(answer)\n"
      ],
      "metadata": {
        "colab": {
          "base_uri": "https://localhost:8080/"
        },
        "id": "2Vi7mmsDmn7l",
        "outputId": "fe871064-d0b7-4b52-ab85-9f6b9714c43a"
      },
      "execution_count": null,
      "outputs": [
        {
          "output_type": "stream",
          "name": "stdout",
          "text": [
            "24\n"
          ]
        }
      ]
    },
    {
      "cell_type": "code",
      "source": [
        "dict= {'c': 3,'a': 1,'d': 4,'b':2}\n",
        "del dict['d']\n",
        "print(\"dict after deletion\",dict)"
      ],
      "metadata": {
        "id": "HaORPe-ZnTi6",
        "colab": {
          "base_uri": "https://localhost:8080/"
        },
        "outputId": "e234edff-253c-494d-a814-8a022aa303d9"
      },
      "execution_count": null,
      "outputs": [
        {
          "output_type": "stream",
          "name": "stdout",
          "text": [
            "dict after deletion {'c': 3, 'a': 1, 'b': 2}\n"
          ]
        }
      ]
    },
    {
      "cell_type": "code",
      "source": [
        "listkeys=[1,2,3,]\n",
        "listvalues=['a','b','c','d']\n",
        "print(\"Original key list is : \",listkeys)\n",
        "print(\"Original value list is : \",listvalues)\n",
        "res = {}\n",
        "for key in listkeys:\n",
        "    for value in listvalues:\n",
        "        res[key] = value\n",
        "        listvalues.remove(value)\n",
        "        break\n",
        "print(\"Resultant dictionary is : \" + str(res))\n",
        " "
      ],
      "metadata": {
        "colab": {
          "base_uri": "https://localhost:8080/"
        },
        "id": "js9QKCXSy5pk",
        "outputId": "1ecc8203-875d-43d4-d85d-0068ef167b32"
      },
      "execution_count": null,
      "outputs": [
        {
          "output_type": "stream",
          "name": "stdout",
          "text": [
            "Original key list is :  [1, 2, 3]\n",
            "Original value list is :  ['a', 'b', 'c', 'd']\n",
            "Resultant dictionary is : {1: 'a', 2: 'b', 3: 'c'}\n"
          ]
        }
      ]
    },
    {
      "cell_type": "code",
      "source": [
        "d= {'c': 3,'a': 1,'d': 4,'b':2}\n",
        "maxvalue= max(zip(d.values(), d.keys()))[1]\n",
        "minvalue= min(zip(d.values(), d.keys()))[1]\n",
        "print('max value',maxvalue)\n",
        "print('min vale',minvalue)"
      ],
      "metadata": {
        "colab": {
          "base_uri": "https://localhost:8080/"
        },
        "id": "hlTRQ8Wz1Nyf",
        "outputId": "cd69edcd-b5d3-44b1-ffc5-9c8a7a87f4bb"
      },
      "execution_count": null,
      "outputs": [
        {
          "output_type": "stream",
          "name": "stdout",
          "text": [
            "max value d\n",
            "min vale a\n"
          ]
        }
      ]
    },
    {
      "cell_type": "code",
      "source": [
        "d= {'c': 3,'a': 1,'d': 4,'b':2,'e':3,'f':1}\n",
        "print(\"The original dictionary is : \",d)\n",
        "temp = {val : key for key, val in d.items()}\n",
        "res = {val : key for key, val in temp.items()}\n",
        "print('dictionary after removal',res)"
      ],
      "metadata": {
        "colab": {
          "base_uri": "https://localhost:8080/"
        },
        "id": "qC92LQil3spp",
        "outputId": "45d87916-babd-492e-cd0a-b3c1b91b58a4"
      },
      "execution_count": null,
      "outputs": [
        {
          "output_type": "stream",
          "name": "stdout",
          "text": [
            "The original dictionary is :  {'c': 3, 'a': 1, 'd': 4, 'b': 2, 'e': 3, 'f': 1}\n",
            "dictionary after removal {'e': 3, 'f': 1, 'd': 4, 'b': 2}\n"
          ]
        }
      ]
    },
    {
      "cell_type": "code",
      "source": [
        "d= {'c': 3,'a': 1,'d': 4,'b':2,'e':3,'f':1}\n",
        "dict= len(d)==0\n",
        "print(\"Is dictionary empty ? :\",dict)\n"
      ],
      "metadata": {
        "colab": {
          "base_uri": "https://localhost:8080/"
        },
        "id": "kvUhx_BR7OID",
        "outputId": "01ab12eb-4bf5-41c7-a334-f8070113ec6a"
      },
      "execution_count": null,
      "outputs": [
        {
          "output_type": "stream",
          "name": "stdout",
          "text": [
            "Is dictionary empty ? : False\n"
          ]
        }
      ]
    },
    {
      "cell_type": "code",
      "source": [
        "d1 = {'a': 100, 'b': 200, 'c':300}\n",
        "d2 = {'a': 300, 'b': 200, 'd':400}\n",
        "for key in d2:\n",
        "    if key in d1:\n",
        "        d2[key] = d2[key] + d1[key]\n",
        "    else:\n",
        "        pass\n",
        "         \n",
        "print(d2)"
      ],
      "metadata": {
        "colab": {
          "base_uri": "https://localhost:8080/"
        },
        "id": "MZLnaeNw70XH",
        "outputId": "f249ef71-17c9-44a7-d512-c089550aa441"
      },
      "execution_count": null,
      "outputs": [
        {
          "output_type": "stream",
          "name": "stdout",
          "text": [
            "{'a': 400, 'b': 400, 'd': 400}\n"
          ]
        }
      ]
    },
    {
      "cell_type": "code",
      "source": [
        "sampledata = [{\"V\":\"S001\"}, {\"V\": \"S002\"}, {\"VI\": \"S001\"}, {\"VI\": \"S005\"}, {\"VII\":\"S005\"}, {\"V\":\"S009\"},{\"VIII\":\"S007\"}]\n",
        "res = list(set(val for dic in sampledata for val in dic.values()))\n",
        "print(\"The unique values in list are : \",res)"
      ],
      "metadata": {
        "colab": {
          "base_uri": "https://localhost:8080/"
        },
        "id": "eS0A4FqJ83iT",
        "outputId": "60b56b24-0ce9-499f-d17c-0de121799e26"
      },
      "execution_count": null,
      "outputs": [
        {
          "output_type": "stream",
          "name": "stdout",
          "text": [
            "The unique values in list are :  ['S007', 'S009', 'S001', 'S002', 'S005']\n"
          ]
        }
      ]
    }
  ]
}