{
  "nbformat": 4,
  "nbformat_minor": 0,
  "metadata": {
    "colab": {
      "provenance": [],
      "authorship_tag": "ABX9TyP/Gfb0Gl0yApp8rhuya5sL",
      "include_colab_link": true
    },
    "kernelspec": {
      "name": "python3",
      "display_name": "Python 3"
    },
    "language_info": {
      "name": "python"
    }
  },
  "cells": [
    {
      "cell_type": "markdown",
      "metadata": {
        "id": "view-in-github",
        "colab_type": "text"
      },
      "source": [
        "<a href=\"https://colab.research.google.com/github/priyapilli/priyapilli/blob/main/python_assesment_1.ipynb\" target=\"_parent\"><img src=\"https://colab.research.google.com/assets/colab-badge.svg\" alt=\"Open In Colab\"/></a>"
      ]
    },
    {
      "cell_type": "code",
      "source": [
        "import array\n",
        "for name in array.__dict__:\n",
        "    print(name)\n",
        "\n"
      ],
      "metadata": {
        "colab": {
          "base_uri": "https://localhost:8080/"
        },
        "id": "shUWLaZwYeD4",
        "outputId": "01fe01ef-aa9d-4351-9717-81b17b4a5c11"
      },
      "execution_count": 3,
      "outputs": [
        {
          "output_type": "stream",
          "name": "stdout",
          "text": [
            "__name__\n",
            "__doc__\n",
            "__package__\n",
            "__loader__\n",
            "__spec__\n",
            "_array_reconstructor\n",
            "ArrayType\n",
            "array\n",
            "typecodes\n"
          ]
        }
      ]
    },
    {
      "cell_type": "code",
      "source": [
        "class person:\n",
        " def __init__(self,name,age,hobby):\n",
        "   self.name=name\n",
        "   self.age=age\n",
        "   self.hobby=hobby\n",
        "person= person('mera','22','dance')\n",
        "print(person.__dict__)\n",
        "    "
      ],
      "metadata": {
        "colab": {
          "base_uri": "https://localhost:8080/"
        },
        "id": "hfQF175oYnNE",
        "outputId": "d6beb6d9-caf3-4a83-b1e0-c9ca48319d65"
      },
      "execution_count": 15,
      "outputs": [
        {
          "output_type": "stream",
          "name": "stdout",
          "text": [
            "{'name': 'mera', 'age': '22', 'hobby': 'dance'}\n"
          ]
        }
      ]
    },
    {
      "cell_type": "code",
      "source": [
        "import builtins \n",
        "help(builtins.abs)\n",
        "print(builtins.abs(-155))"
      ],
      "metadata": {
        "colab": {
          "base_uri": "https://localhost:8080/"
        },
        "id": "2rrF9qTfd8be",
        "outputId": "0785cf1b-5bbb-4f36-ba3d-f7ef46a6a360"
      },
      "execution_count": 16,
      "outputs": [
        {
          "output_type": "stream",
          "name": "stdout",
          "text": [
            "Help on built-in function abs in module builtins:\n",
            "\n",
            "abs(x, /)\n",
            "    Return the absolute value of the argument.\n",
            "\n",
            "155\n"
          ]
        }
      ]
    },
    {
      "cell_type": "code",
      "source": [
        "def student(student_id, student_name, student_class):\n",
        "    return f'Student ID: {student_id}\\nStudent Name: {student_name}\\nClass: {student_class}'\n",
        "print(student('32', 'meera', 'python'))\n"
      ],
      "metadata": {
        "colab": {
          "base_uri": "https://localhost:8080/"
        },
        "id": "K5XkCP1_hCRW",
        "outputId": "324c1037-ca64-4d04-baa1-88e30be8dc14"
      },
      "execution_count": 21,
      "outputs": [
        {
          "output_type": "stream",
          "name": "stdout",
          "text": [
            "Student ID: 32\n",
            "Student Name: meera\n",
            "Class: python\n"
          ]
        }
      ]
    },
    {
      "cell_type": "code",
      "source": [
        "def student_data(student_id, **kwargs):\n",
        "    print(f'\\nStudent ID: {student_id}')\n",
        "    if 'student_name' in kwargs:\n",
        "        print(f\"Student Name:  {kwargs['student_name']}\")\n",
        "    \n",
        "    if 'student_name' and 'student_class' in kwargs:\n",
        "            print(f\"\\nStudent Name:  {kwargs['student_name']}\")\n",
        "            print(f\"Student Class:  {kwargs['student_class']}\")\n",
        "\n",
        " \n",
        "student_data(student_id='32', student_name='priya')\n",
        "\n",
        "student_data(student_id='35', student_name='ria', student_class ='python')\n"
      ],
      "metadata": {
        "colab": {
          "base_uri": "https://localhost:8080/"
        },
        "id": "yCMP7k4-jEFW",
        "outputId": "c61f843d-5117-4af7-fd53-65c5872586e8"
      },
      "execution_count": 31,
      "outputs": [
        {
          "output_type": "stream",
          "name": "stdout",
          "text": [
            "\n",
            "Student ID: 32\n",
            "Student Name:  priya\n",
            "\n",
            "Student ID: 35\n",
            "Student Name:  ria\n",
            "\n",
            "Student Name:  ria\n",
            "Student Class:  python\n"
          ]
        }
      ]
    },
    {
      "cell_type": "code",
      "source": [
        "class Student:\n",
        "    pass  \n",
        "print(type(Student))\n",
        "print(Student.__dict__.keys())\n",
        "print(Student.__module__)\n",
        "\n",
        "\n"
      ],
      "metadata": {
        "colab": {
          "base_uri": "https://localhost:8080/"
        },
        "id": "3V7Eq0Qzjp1v",
        "outputId": "d31af313-51b5-4f58-ea46-ba7875e8584c"
      },
      "execution_count": 32,
      "outputs": [
        {
          "output_type": "stream",
          "name": "stdout",
          "text": [
            "<class 'type'>\n",
            "dict_keys(['__module__', '__dict__', '__weakref__', '__doc__'])\n",
            "__main__\n"
          ]
        }
      ]
    },
    {
      "cell_type": "code",
      "source": [
        "class student:\n",
        "  pass\n",
        "class marks:\n",
        "  pass\n",
        "students= Student()\n",
        "marks1= marks()\n",
        "print(isinstance(students, Student))\n",
        "print(isinstance(marks1, Student))\n",
        "print(isinstance(marks1, marks)) \n",
        "print(isinstance(students, marks))\n",
        "print(issubclass(Student, object))\n",
        "print(issubclass(marks, object)) "
      ],
      "metadata": {
        "colab": {
          "base_uri": "https://localhost:8080/"
        },
        "id": "ybeDiwqIj4Tf",
        "outputId": "0b34ca8b-1cd0-4e6e-c1aa-64a5dd0f776b"
      },
      "execution_count": 34,
      "outputs": [
        {
          "output_type": "stream",
          "name": "stdout",
          "text": [
            "True\n",
            "False\n",
            "True\n",
            "False\n",
            "True\n",
            "True\n"
          ]
        }
      ]
    },
    {
      "cell_type": "code",
      "source": [
        "class Student:\n",
        "    student_name = 'priya'\n",
        "    marks = 85\n",
        "print(f\"Student Name: {getattr(Student, 'student_name')}\")\n",
        "print(f\"Marks: {getattr(Student, 'marks')}\")\n",
        "setattr(Student, 'student_name', 'ria')\n",
        "setattr(Student, 'marks', 70) \n",
        "print(f\"Student Name: {getattr(Student, 'student_name')}\")\n",
        "print(f\"Marks: {getattr(Student, 'marks')}\")"
      ],
      "metadata": {
        "colab": {
          "base_uri": "https://localhost:8080/"
        },
        "id": "Y5tuJRvPk6To",
        "outputId": "b539e127-87b6-49b4-9e41-a503bb1d914e"
      },
      "execution_count": 35,
      "outputs": [
        {
          "output_type": "stream",
          "name": "stdout",
          "text": [
            "Student Name: priya\n",
            "Marks: 85\n",
            "Student Name: ria\n",
            "Marks: 70\n"
          ]
        }
      ]
    },
    {
      "cell_type": "code",
      "source": [
        "def maximum(a, b, c):\n",
        "  \n",
        "    list = [a, b, c]\n",
        "    return max(list)\n",
        "a=13\n",
        "b=23\n",
        "c=41\n",
        "print(maximum(a,b,c))"
      ],
      "metadata": {
        "colab": {
          "base_uri": "https://localhost:8080/"
        },
        "id": "6AQqibjhl8yq",
        "outputId": "39ffdcf1-39ea-4713-e17e-9efef828d71b"
      },
      "execution_count": 41,
      "outputs": [
        {
          "output_type": "stream",
          "name": "stdout",
          "text": [
            "41\n"
          ]
        }
      ]
    },
    {
      "cell_type": "code",
      "source": [
        "def sum(numbers):\n",
        "    total = 0\n",
        "    for x in numbers:\n",
        "        total += x\n",
        "    return total\n",
        "print(sum((8, 2, 3, 0, 7)))\n"
      ],
      "metadata": {
        "colab": {
          "base_uri": "https://localhost:8080/"
        },
        "id": "C6d349jInfQK",
        "outputId": "dbd1b611-c57a-4b67-858b-c5a816597f91"
      },
      "execution_count": 42,
      "outputs": [
        {
          "output_type": "stream",
          "name": "stdout",
          "text": [
            "20\n"
          ]
        }
      ]
    },
    {
      "cell_type": "code",
      "source": [
        "def multiply(numbers):  \n",
        "    total = 1\n",
        "    for x in numbers:\n",
        "        total *= x  \n",
        "    return total  \n",
        "print(multiply((8, 2, 3, -1, 7)))\n"
      ],
      "metadata": {
        "colab": {
          "base_uri": "https://localhost:8080/"
        },
        "id": "mDVXgtfCodUk",
        "outputId": "c831b512-72cd-4257-962f-16da5b3ea940"
      },
      "execution_count": 48,
      "outputs": [
        {
          "output_type": "stream",
          "name": "stdout",
          "text": [
            "-336\n"
          ]
        }
      ]
    },
    {
      "cell_type": "code",
      "source": [
        "note = \"python assesment\"[::-1]\n",
        "print(note)"
      ],
      "metadata": {
        "colab": {
          "base_uri": "https://localhost:8080/"
        },
        "id": "vRlqetDnojRp",
        "outputId": "516b1a90-612b-42cc-b154-e40e2d949ef6"
      },
      "execution_count": 49,
      "outputs": [
        {
          "output_type": "stream",
          "name": "stdout",
          "text": [
            "tnemsessa nohtyp\n"
          ]
        }
      ]
    },
    {
      "cell_type": "code",
      "source": [
        "import math\n",
        "def factorial(n):\n",
        " return(math.factorial(n))\n",
        "n=int(input(\"Input a number to compute the factiorial : \"))\n",
        "print(\"Factorial of\",n, \"is\",factorial(n))\n",
        " "
      ],
      "metadata": {
        "colab": {
          "base_uri": "https://localhost:8080/"
        },
        "id": "qWrewuRepFsA",
        "outputId": "0dceeec1-c315-4302-846d-b5d64ce33ed5"
      },
      "execution_count": 58,
      "outputs": [
        {
          "output_type": "stream",
          "name": "stdout",
          "text": [
            "Input a number to compute the factiorial : 6\n",
            "Factorial of 6 is 720\n"
          ]
        }
      ]
    },
    {
      "cell_type": "code",
      "source": [
        "def test_range(n):\n",
        "    if n in range(8,9):\n",
        "        print( \" %s is in the range\"%str(n))\n",
        "    else :\n",
        "        print(\"The number is outside the given range.\")\n",
        "test_range(5)"
      ],
      "metadata": {
        "colab": {
          "base_uri": "https://localhost:8080/"
        },
        "id": "YjRh8-rRrUcR",
        "outputId": "4f12bfd4-2870-4863-cc80-a828add86b1f"
      },
      "execution_count": 60,
      "outputs": [
        {
          "output_type": "stream",
          "name": "stdout",
          "text": [
            "The number is outside the given range.\n"
          ]
        }
      ]
    },
    {
      "cell_type": "code",
      "source": [
        "def string_test(s):\n",
        "    d={\"UPPER_CASE\":0, \"LOWER_CASE\":0}\n",
        "    for c in s:\n",
        "        if c.isupper():\n",
        "           d[\"UPPER_CASE\"]+=1\n",
        "        elif c.islower():\n",
        "           d[\"LOWER_CASE\"]+=1\n",
        "        else:\n",
        "           pass\n",
        "    print (\"Original String : \", s)\n",
        "    print (\"No. of Upper case characters : \", d[\"UPPER_CASE\"])\n",
        "    print (\"No. of Lower case Characters : \", d[\"LOWER_CASE\"])\n",
        "\n",
        "string_test('The quick Brown Fox')\n"
      ],
      "metadata": {
        "colab": {
          "base_uri": "https://localhost:8080/"
        },
        "id": "1ivx2Ly5rnAR",
        "outputId": "16d3ec02-8299-472e-e530-3bedc763ff31"
      },
      "execution_count": 61,
      "outputs": [
        {
          "output_type": "stream",
          "name": "stdout",
          "text": [
            "Original String :  The quick Brown Fox\n",
            "No. of Upper case characters :  3\n",
            "No. of Lower case Characters :  13\n"
          ]
        }
      ]
    },
    {
      "cell_type": "code",
      "source": [
        "def unique_list(l):\n",
        "  x = []\n",
        "  for a in l:\n",
        "    if a not in x:\n",
        "      x.append(a)\n",
        "  return x\n",
        "\n",
        "print(unique_list([1,2,3,3,3,3,4,5])) \n"
      ],
      "metadata": {
        "colab": {
          "base_uri": "https://localhost:8080/"
        },
        "id": "dhGciMd_sBlg",
        "outputId": "a86fc78d-fe43-4cf6-b622-16a0f694edcb"
      },
      "execution_count": 62,
      "outputs": [
        {
          "output_type": "stream",
          "name": "stdout",
          "text": [
            "[1, 2, 3, 4, 5]\n"
          ]
        }
      ]
    },
    {
      "cell_type": "code",
      "source": [
        "def test_prime(n):\n",
        "    if (n==1):\n",
        "        return False\n",
        "    elif (n==2):\n",
        "        return True;\n",
        "    else:\n",
        "        for x in range(2,n):\n",
        "            if(n % x==0):\n",
        "                return False\n",
        "        return True             \n",
        "print(test_prime(7))\n"
      ],
      "metadata": {
        "colab": {
          "base_uri": "https://localhost:8080/"
        },
        "id": "MuUQthpXtk_C",
        "outputId": "ede2d8a2-eefe-4545-b1fc-da4aa38ae4ad"
      },
      "execution_count": 70,
      "outputs": [
        {
          "output_type": "stream",
          "name": "stdout",
          "text": [
            "True\n"
          ]
        }
      ]
    },
    {
      "cell_type": "code",
      "source": [
        "list= [1, 2, 3, 4, 5, 6, 7, 8, 9]\n",
        "for num in list:\n",
        "    if num % 2 == 0:\n",
        "        print(num, end=\" \")"
      ],
      "metadata": {
        "colab": {
          "base_uri": "https://localhost:8080/"
        },
        "id": "9HYXfaHUtnqJ",
        "outputId": "f66c2699-e2e8-4acd-c6d5-89211093f807"
      },
      "execution_count": 72,
      "outputs": [
        {
          "output_type": "stream",
          "name": "stdout",
          "text": [
            "2 4 6 8 "
          ]
        }
      ]
    },
    {
      "cell_type": "code",
      "source": [
        "n = int(input(\"Enter any number: \"))\n",
        "sum1 = 0\n",
        "for i in range(1, n):\n",
        "    if(n % i == 0):\n",
        "        sum1 = sum1 + i\n",
        "if (sum1 == n):\n",
        "    print(\"The number is a Perfect number!\")\n",
        "else:\n",
        "    print(\"The number is not a Perfect number!\")"
      ],
      "metadata": {
        "colab": {
          "base_uri": "https://localhost:8080/"
        },
        "id": "EYjAGu7TuJUZ",
        "outputId": "ef85c0bc-26ce-4b87-cda4-ec686faa724a"
      },
      "execution_count": 73,
      "outputs": [
        {
          "output_type": "stream",
          "name": "stdout",
          "text": [
            "Enter any number: 7\n",
            "The number is not a Perfect number!\n"
          ]
        }
      ]
    },
    {
      "cell_type": "code",
      "source": [
        "def ispalindrome(string):\n",
        "  if(string==string[::1]):\n",
        "    return \"the string is palindrome\"\n",
        "  else:\n",
        "    return \"the string is not palindrome\"\n",
        "string=input(\"enter string:\")\n",
        "print(ispalindrome(string))\n",
        "\n"
      ],
      "metadata": {
        "colab": {
          "base_uri": "https://localhost:8080/"
        },
        "id": "N8IjcFScu3lZ",
        "outputId": "9d6a464a-95ee-4e9e-e1ac-78130dcc22b5"
      },
      "execution_count": 76,
      "outputs": [
        {
          "output_type": "stream",
          "name": "stdout",
          "text": [
            "enter string:assesment\n",
            "the string is palindrome\n"
          ]
        }
      ]
    }
  ]
}