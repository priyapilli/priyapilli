{
  "nbformat": 4,
  "nbformat_minor": 0,
  "metadata": {
    "colab": {
      "provenance": [],
      "toc_visible": true,
      "authorship_tag": "ABX9TyNThi0TRl943MQKdGr4V1UF",
      "include_colab_link": true
    },
    "kernelspec": {
      "name": "python3",
      "display_name": "Python 3"
    },
    "language_info": {
      "name": "python"
    }
  },
  "cells": [
    {
      "cell_type": "markdown",
      "metadata": {
        "id": "view-in-github",
        "colab_type": "text"
      },
      "source": [
        "<a href=\"https://colab.research.google.com/github/priyapilli/priyapilli/blob/main/Untitled5.ipynb\" target=\"_parent\"><img src=\"https://colab.research.google.com/assets/colab-badge.svg\" alt=\"Open In Colab\"/></a>"
      ]
    },
    {
      "cell_type": "code",
      "execution_count": null,
      "metadata": {
        "colab": {
          "base_uri": "https://localhost:8080/"
        },
        "id": "Z2nMH27G7LnB",
        "outputId": "50f3b9b9-1d2d-483f-9ba6-1d655d6aaf4b"
      },
      "outputs": [
        {
          "output_type": "stream",
          "name": "stdout",
          "text": [
            "there is a assignment for file handling\n",
            "to open and read it\n",
            "\n"
          ]
        }
      ],
      "source": [
        "f=open(\"file handling\",'r')\n",
        "print(f.read())\n",
        "f.close()"
      ]
    },
    {
      "cell_type": "code",
      "source": [
        "f=open(\"story.txt\",'x')\n",
        "f.writelines( \"A boy is playing there.\\n\"\n",
        "\"There is a playground.\\n\"\n",
        "\"An aeroplane is in the sky.\\n\"\n",
        "\"The sky is pink.\\n\"\n",
        "\"Alphabets and numbers are allowed in the password.\\n\")\n",
        "f=open(\"story.txt\",\"r\")\n",
        "count=0\n",
        "for line in f:\n",
        "  if line[0] not in 'T':\n",
        "   count+=1\n",
        "f.close()  \n",
        "print(\"number of lines not starting with 'T' =\",count)\n"
      ],
      "metadata": {
        "colab": {
          "base_uri": "https://localhost:8080/"
        },
        "id": "lUm9uKQ2_770",
        "outputId": "64f314cb-8920-4f33-c0e9-54918e42fcac"
      },
      "execution_count": null,
      "outputs": [
        {
          "output_type": "stream",
          "name": "stdout",
          "text": [
            "number of lines not starting with 'T' = 3\n"
          ]
        }
      ]
    },
    {
      "cell_type": "code",
      "source": [
        "f=open(\"story.txt\",\"r\")\n",
        "numberofwords=0\n",
        "ff=f.read()\n",
        "lines=ff.split()\n",
        "numberofwords+=len(lines)\n",
        "print(numberofwords)"
      ],
      "metadata": {
        "colab": {
          "base_uri": "https://localhost:8080/"
        },
        "id": "viVHqadtK9SO",
        "outputId": "e77c7c04-3028-48f0-f966-298c5c49ff0e"
      },
      "execution_count": null,
      "outputs": [
        {
          "output_type": "stream",
          "name": "stdout",
          "text": [
            "27\n"
          ]
        }
      ]
    },
    {
      "cell_type": "code",
      "source": [
        "f=open(\"story.txt\",\"r\")\n",
        "count=0\n",
        "for line in f:\n",
        "  if 'the' in line:\n",
        "    count+=1\n",
        "f.close()\n",
        "print(\"number of time 'the' occured\",count)\n"
      ],
      "metadata": {
        "colab": {
          "base_uri": "https://localhost:8080/"
        },
        "id": "ZumEtt61NTsa",
        "outputId": "a6cbc191-d757-45a3-ed4f-a3cdd8a6105d"
      },
      "execution_count": null,
      "outputs": [
        {
          "output_type": "stream",
          "name": "stdout",
          "text": [
            "number of time 'the' occured 3\n"
          ]
        }
      ]
    },
    {
      "cell_type": "code",
      "source": [
        "def display_words():\n",
        " f=open(\"story.txt\",\"r\")\n",
        " count=0\n",
        " ff=f.read()\n",
        " lines=ff.split()\n",
        " for w in lines:\n",
        "  if len(w)<4:\n",
        "    count+=1\n",
        " f.close() \n",
        " print(\"number of words less than 4 are\",count)\n",
        "\n",
        "\n",
        "  "
      ],
      "metadata": {
        "id": "h_tWTBeqO7Jl"
      },
      "execution_count": null,
      "outputs": []
    },
    {
      "cell_type": "code",
      "source": [
        "f=open(\"story.txt\",\"r\")\n",
        "count=0\n",
        "counts=0\n",
        "for line in f:\n",
        "  count+=line.count('this')\n",
        "  counts+=line.count('these')\n",
        "f.close()\n",
        "print(\"number of time 'this' occured\",count)\n",
        "print(\"number of time 'these' occured\",count)"
      ],
      "metadata": {
        "colab": {
          "base_uri": "https://localhost:8080/"
        },
        "id": "BvLNcj54Uznu",
        "outputId": "2dfb7ea9-7cfc-48cf-a778-7a176441a0a0"
      },
      "execution_count": null,
      "outputs": [
        {
          "output_type": "stream",
          "name": "stdout",
          "text": [
            "number of time 'this' occured 0\n",
            "number of time 'these' occured 0\n"
          ]
        }
      ]
    },
    {
      "cell_type": "code",
      "source": [
        "f=open(\"story.txt\",\"r\")\n",
        "numberofwords=0\n",
        "ff=f.read()\n",
        "lines=ff.split()\n",
        "n=str(len(lines))\n",
        "for word in n:\n",
        "  count+= word.endswith('e')\n",
        "print(\"number of words that end with 'e'\",word)"
      ],
      "metadata": {
        "colab": {
          "base_uri": "https://localhost:8080/"
        },
        "id": "ufr8_fIBWigZ",
        "outputId": "1f356bb2-12b5-43f7-95f3-b8db958f9ca8"
      },
      "execution_count": null,
      "outputs": [
        {
          "output_type": "stream",
          "name": "stdout",
          "text": [
            "number of words that end with 'e' 4\n"
          ]
        }
      ]
    },
    {
      "cell_type": "code",
      "source": [
        "f=open(\"story.txt\",\"r\")\n",
        "ff=f.read()\n",
        "for character in ff:\n",
        "  if character.isupper():\n",
        "   count +=1\n",
        "print(count)\n",
        "  "
      ],
      "metadata": {
        "id": "b6djF0qVbEd_",
        "colab": {
          "base_uri": "https://localhost:8080/"
        },
        "outputId": "7c119cb6-c45b-4f27-8fb2-eef97c7c2e87"
      },
      "execution_count": null,
      "outputs": [
        {
          "output_type": "stream",
          "name": "stdout",
          "text": [
            "5\n"
          ]
        }
      ]
    },
    {
      "cell_type": "code",
      "source": [
        "def hash_display():\n",
        "  f=open(\"story.txt\",\"r\")\n",
        "  ff=f.read()\n",
        "  for letter in ff:\n",
        "   print(letter, end=\"#\")\n",
        "  f.close()\n",
        "hash_display()"
      ],
      "metadata": {
        "colab": {
          "base_uri": "https://localhost:8080/"
        },
        "id": "f2nEL2p2fVqb",
        "outputId": "df58f43c-1732-44a9-f297-d74abd3b8886"
      },
      "execution_count": null,
      "outputs": [
        {
          "output_type": "stream",
          "name": "stdout",
          "text": [
            "A# #b#o#y# #i#s# #p#l#a#y#i#n#g# #t#h#e#r#e#.#\n",
            "#T#h#e#r#e# #i#s# #a# #p#l#a#y#g#r#o#u#n#d#.#\n",
            "#A#n# #a#e#r#o#p#l#a#n#e# #i#s# #i#n# #t#h#e# #s#k#y#.#\n",
            "#T#h#e# #s#k#y# #i#s# #p#i#n#k#.#\n",
            "#A#l#p#h#a#b#e#t#s# #a#n#d# #n#u#m#b#e#r#s# #a#r#e# #a#l#l#o#w#e#d# #i#n# #t#h#e# #p#a#s#s#w#o#r#d#.#\n",
            "#h#e# #i#s# #t#h#e#r#e#\n",
            "#h#e#r# #t#e#e#t#h# #a#r#e# #w#h#i#t#e#"
          ]
        }
      ]
    },
    {
      "cell_type": "code",
      "source": [
        "f=open(\"WORDS.txt\",'x')\n",
        "f.writelines(\"WELL, THJS JS A WORD BY JTSELF. YOU COULD STRETCH THJS TO BE A SENTENCE\\n\"\n",
        "\"The function JTOI() should display the following content:\\n\"\n",
        "\"WELL, THIS IS A WORD BY ITSELF. YOU COULD STRETCH THIS TO BE A SENTENCE Solution\\n\")\n",
        "f=open(\"WORDS.txt\",\"r\")"
      ],
      "metadata": {
        "id": "IIGsqf1ig__y"
      },
      "execution_count": null,
      "outputs": []
    },
    {
      "cell_type": "code",
      "source": [],
      "metadata": {
        "id": "EdWWKPCxiQP2"
      },
      "execution_count": null,
      "outputs": []
    }
  ]
}